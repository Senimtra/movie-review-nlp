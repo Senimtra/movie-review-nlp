{
 "cells": [
  {
   "cell_type": "markdown",
   "metadata": {},
   "source": [
    "# Data Exploration"
   ]
  },
  {
   "cell_type": "code",
   "execution_count": null,
   "metadata": {},
   "outputs": [],
   "source": [
    "# Imports\n",
    "\n",
    "import textwrap\n",
    "\n",
    "import pandas as pd\n",
    "import matplotlib.pyplot as plt\n",
    "\n",
    "from transformers import BertTokenizer, DistilBertTokenizer, RobertaTokenizer"
   ]
  },
  {
   "cell_type": "code",
   "execution_count": null,
   "metadata": {},
   "outputs": [],
   "source": [
    "data = pd.read_csv('../data/imdb_train.csv')\n",
    "\n",
    "data.head()"
   ]
  },
  {
   "cell_type": "code",
   "execution_count": null,
   "metadata": {},
   "outputs": [],
   "source": [
    "data.shape"
   ]
  },
  {
   "cell_type": "code",
   "execution_count": null,
   "metadata": {},
   "outputs": [],
   "source": [
    "data.info()"
   ]
  },
  {
   "cell_type": "code",
   "execution_count": null,
   "metadata": {},
   "outputs": [],
   "source": [
    "# Label distribution\n",
    "\n",
    "data.sentiment.value_counts()"
   ]
  },
  {
   "cell_type": "code",
   "execution_count": null,
   "metadata": {},
   "outputs": [],
   "source": [
    "# Missing values\n",
    "\n",
    "data.isna().sum()"
   ]
  },
  {
   "cell_type": "code",
   "execution_count": null,
   "metadata": {},
   "outputs": [],
   "source": [
    "# Identifying duplicate reviews\n",
    "\n",
    "duplicates = len(data[data.duplicated()])\n",
    "\n",
    "print('Duplicates found:', duplicates)"
   ]
  },
  {
   "cell_type": "code",
   "execution_count": null,
   "metadata": {},
   "outputs": [],
   "source": [
    "# Sample review\n",
    "\n",
    "sample_review = textwrap.fill(data.sample().iloc[0, 0], width = 100)\n",
    "\n",
    "print(sample_review)"
   ]
  },
  {
   "cell_type": "code",
   "execution_count": null,
   "metadata": {},
   "outputs": [],
   "source": [
    "# Review word count + average review length\n",
    "\n",
    "word_count_range = [len(text.split()) for text in data.review]\n",
    "average_word_count = sum(word_count_range) / len(word_count_range)\n",
    "\n",
    "print(f\"Review length (words): {min(word_count_range)} - {max(word_count_range)} words\")\n",
    "print(f\"Average review length (words): {average_word_count}\")"
   ]
  },
  {
   "cell_type": "code",
   "execution_count": null,
   "metadata": {},
   "outputs": [],
   "source": [
    "# Plotting review word counts\n",
    "\n",
    "plt.figure(figsize = (10, 3))\n",
    "plt.hist(word_count_range, bins = 150, edgecolor = 'black', alpha = 0.7)\n",
    "plt.xlabel('Word Count')\n",
    "plt.ylabel('Frequency')\n",
    "plt.title('Distribution of Review Word Counts')\n",
    "plt.grid(axis = 'y', linestyle = '--', alpha = 0.6)\n",
    "\n",
    "plt.show()"
   ]
  },
  {
   "cell_type": "code",
   "execution_count": null,
   "metadata": {},
   "outputs": [],
   "source": [
    "# Exploring DistilBERT, BERT and RoBERTa token length distribution BEFORE data cleaning\n",
    "\n",
    "bert_tokenizer = BertTokenizer.from_pretrained('bert-base-uncased')\n",
    "distilbert_tokenizer = DistilBertTokenizer.from_pretrained('distilbert-base-uncased')\n",
    "roberta_tokenizer = RobertaTokenizer.from_pretrained('roberta-base')\n",
    "\n",
    "bert_token_count_list = []\n",
    "distilbert_token_count_list = []\n",
    "roberta_token_count_list = []\n",
    "\n",
    "for review in data['review']:\n",
    "    # Tokenizing (BERT)\n",
    "    bert_token_count = len(bert_tokenizer.tokenize(review)) + 2\n",
    "    bert_token_count_list.append(bert_token_count)\n",
    "    # Tokenizing (DistilBERT)\n",
    "    distilbert_token_count = len(distilbert_tokenizer.tokenize(review)) + 2\n",
    "    distilbert_token_count_list.append(distilbert_token_count)\n",
    "    # Tokenizing (RoBERTa)\n",
    "    roberta_token_count = len(roberta_tokenizer.tokenize(review)) + 2\n",
    "    roberta_token_count_list.append(roberta_token_count)\n",
    "\n",
    "# Counting number of reviews with more than 512 tokens for each tokenizer\n",
    "bert_over_512 = sum([1 for count in bert_token_count_list if count > 512])\n",
    "distilbert_over_512 = sum([1 for count in distilbert_token_count_list if count > 512])\n",
    "roberta_over_512 = sum([1 for count in roberta_token_count_list if count > 512])"
   ]
  },
  {
   "cell_type": "code",
   "execution_count": null,
   "metadata": {},
   "outputs": [],
   "source": [
    "# Plotting BERT token length distribution BEFORE data cleaning\n",
    "\n",
    "plt.figure(figsize = (10, 3))\n",
    "plt.hist(bert_token_count_list, bins = 150, edgecolor = 'black', color = 'orange', alpha = 0.7)\n",
    "plt.axvline(x = 512, color = 'red', linestyle = '--', linewidth = 1.5) \n",
    "plt.xlabel('Number of Tokens')\n",
    "plt.ylabel('Frequency')\n",
    "plt.title('Token Length Cut-off for BERT before Data Cleaning')\n",
    "plt.grid(axis = 'y', linestyle = '--', alpha = 0.6)\n",
    "\n",
    "plt.show()"
   ]
  },
  {
   "cell_type": "code",
   "execution_count": null,
   "metadata": {},
   "outputs": [],
   "source": [
    "# Plotting token length distribution for DistilBERT, BERT, and RoBERTa for comparison\n",
    "\n",
    "plt.figure(figsize = (10, 3))\n",
    "\n",
    "plt.hist(distilbert_token_count_list, bins = 150, alpha = 0.5,\n",
    "         edgecolor = 'black', color = 'blue', label = 'DistilBERT', linewidth = 0.5)\n",
    "plt.hist([x + 500 for x in bert_token_count_list], bins = 150, alpha = 0.5,\n",
    "         edgecolor = 'black', color = 'orange', label = 'BERT', linewidth = 0.5)\n",
    "plt.hist([x + 1000 for x in roberta_token_count_list], bins = 150, alpha = 0.5,\n",
    "         edgecolor = 'black', color = 'green', label = 'RoBERTa', linewidth = 0.5)\n",
    "\n",
    "plt.ylabel('Frequency')\n",
    "plt.title('Tokenizer Comparison for DistilBERT, BERT, and RoBERTa')\n",
    "plt.grid(axis = 'y', linestyle = '--', alpha = 0.6)\n",
    "plt.xticks([])\n",
    "plt.legend()\n",
    "\n",
    "plt.show()"
   ]
  }
 ],
 "metadata": {
  "kernelspec": {
   "display_name": "Python 3",
   "language": "python",
   "name": "python3"
  },
  "language_info": {
   "codemirror_mode": {
    "name": "ipython",
    "version": 3
   },
   "file_extension": ".py",
   "mimetype": "text/x-python",
   "name": "python",
   "nbconvert_exporter": "python",
   "pygments_lexer": "ipython3",
   "version": "3.11.10"
  }
 },
 "nbformat": 4,
 "nbformat_minor": 2
}
